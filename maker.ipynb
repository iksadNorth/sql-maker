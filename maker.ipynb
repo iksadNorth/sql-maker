{
 "cells": [
  {
   "cell_type": "code",
   "execution_count": 1,
   "metadata": {},
   "outputs": [],
   "source": [
    "from generator.fullname import generator as fullname\n",
    "from generator.range import generator as range\n",
    "from generator.product import generator as product\n",
    "from generator.email import generator as email\n",
    "from generator.sentence import generator as sentence\n",
    "\n",
    "from utils.sql import make_sql_generator\n",
    "from utils.file import write_generator"
   ]
  },
  {
   "cell_type": "code",
   "execution_count": 2,
   "metadata": {},
   "outputs": [],
   "source": [
    "item_n = 1000000\n",
    "member_n = 10000\n",
    "follow_n = 100000\n",
    "wish_n = 1000000\n",
    "review_n = 100000"
   ]
  },
  {
   "cell_type": "code",
   "execution_count": 5,
   "metadata": {},
   "outputs": [],
   "source": [
    "item_schema = {\n",
    "    'name': product(),\n",
    "    'price' : range(100, 100000),\n",
    "}"
   ]
  },
  {
   "cell_type": "code",
   "execution_count": 6,
   "metadata": {},
   "outputs": [],
   "source": [
    "sql_generator = make_sql_generator(table='item', schema=item_schema, n=item_n)\n",
    "write_generator(filename='data/item.sql', generator=sql_generator)"
   ]
  },
  {
   "cell_type": "code",
   "execution_count": 7,
   "metadata": {},
   "outputs": [],
   "source": [
    "member_schema = {\n",
    "    'name': fullname(),\n",
    "    'email' : email(),\n",
    "}"
   ]
  },
  {
   "cell_type": "code",
   "execution_count": 8,
   "metadata": {},
   "outputs": [],
   "source": [
    "sql_generator = make_sql_generator(table='member', schema=member_schema, n=member_n)\n",
    "write_generator(filename='data/member.sql', generator=sql_generator)"
   ]
  },
  {
   "cell_type": "code",
   "execution_count": 13,
   "metadata": {},
   "outputs": [],
   "source": [
    "follow_schema = {\n",
    "    'subject_id': range(a=1, b=member_n),\n",
    "    'object_id': range(a=1, b=member_n),\n",
    "}"
   ]
  },
  {
   "cell_type": "code",
   "execution_count": 14,
   "metadata": {},
   "outputs": [],
   "source": [
    "sql_generator = make_sql_generator(table='follow', schema=follow_schema, n=follow_n)\n",
    "write_generator(filename='data/follow.sql', generator=sql_generator)"
   ]
  },
  {
   "cell_type": "code",
   "execution_count": 15,
   "metadata": {},
   "outputs": [],
   "source": [
    "wish_schema = {\n",
    "    'member_id': range(a=1, b=member_n),\n",
    "    'item_id': range(a=1, b=item_n),\n",
    "}"
   ]
  },
  {
   "cell_type": "code",
   "execution_count": 16,
   "metadata": {},
   "outputs": [],
   "source": [
    "sql_generator = make_sql_generator(table='wish', schema=wish_schema, n=wish_n)\n",
    "write_generator(filename='data/wish.sql', generator=sql_generator)"
   ]
  },
  {
   "cell_type": "code",
   "execution_count": 18,
   "metadata": {},
   "outputs": [],
   "source": [
    "review_schema = {\n",
    "    'rating' : range(a=1, b=5),\n",
    "    'comment' : sentence(n=3),\n",
    "    'member_id': range(a=1, b=member_n),\n",
    "    'item_id': range(a=1, b=item_n),\n",
    "}"
   ]
  },
  {
   "cell_type": "code",
   "execution_count": 19,
   "metadata": {},
   "outputs": [],
   "source": [
    "sql_generator = make_sql_generator(table='review', schema=review_schema, n=review_n)\n",
    "write_generator(filename='data/review.sql', generator=sql_generator)"
   ]
  },
  {
   "cell_type": "code",
   "execution_count": null,
   "metadata": {},
   "outputs": [],
   "source": []
  }
 ],
 "metadata": {
  "kernelspec": {
   "display_name": "Python 3",
   "language": "python",
   "name": "python3"
  },
  "language_info": {
   "codemirror_mode": {
    "name": "ipython",
    "version": 3
   },
   "file_extension": ".py",
   "mimetype": "text/x-python",
   "name": "python",
   "nbconvert_exporter": "python",
   "pygments_lexer": "ipython3",
   "version": "3.8.10"
  }
 },
 "nbformat": 4,
 "nbformat_minor": 2
}
